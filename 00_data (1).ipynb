{
 "cells": [
  {
   "cell_type": "code",
   "execution_count": 44,
   "metadata": {},
   "outputs": [
    {
     "name": "stdout",
     "output_type": "stream",
     "text": [
      "The lab_black extension is already loaded. To reload it, use:\n",
      "  %reload_ext lab_black\n",
      "The autoreload extension is already loaded. To reload it, use:\n",
      "  %reload_ext autoreload\n"
     ]
    }
   ],
   "source": [
    "# default_exp data\n",
    "%load_ext lab_black\n",
    "# nb_black if running in jupyter\n",
    "%load_ext autoreload\n",
    "# automatically reload (local) python modules if they are updated\n",
    "%autoreload 2"
   ]
  },
  {
   "cell_type": "code",
   "execution_count": 45,
   "metadata": {},
   "outputs": [],
   "source": [
    "# hide\n",
    "from nbdev.showdoc import *"
   ]
  },
  {
   "cell_type": "markdown",
   "metadata": {},
   "source": [
    "# Data\n",
    "\n",
    "> You should begin your work by cleaning up your data and possibly defining tools for doing it repeateadly.\n",
    "\n"
   ]
  },
  {
   "cell_type": "markdown",
   "metadata": {},
   "source": [
    "***input***: raw data\n",
    "\n",
    "***output***: clean and tidy dataset + toy dataset for testing\n",
    "\n",
    "***description:***\n",
    "\n",
    "This is the first notebook of your machine learning project. In this notebook, you will load the data, inspect, clean and make it tidy. \n",
    "You will define the data points and their features and labels. The output of this notebook is a clean, tidy dataset ready for analysis and machine learning.\n",
    "You can also do a basic statistical analysis of the data to better understand it.\n",
    "For any functions you define for handling the data, remember to mark their cells with `# export` -comment,\n",
    "so that they will be included in the data.py-module built based on this notebook.\n",
    "You can also include unit tests for your own functions.\n",
    "\n",
    "Rewrite this and the other text cells with your own descriptions."
   ]
  },
  {
   "cell_type": "markdown",
   "metadata": {},
   "source": [
    "## Import relevant modules"
   ]
  },
  {
   "cell_type": "code",
   "execution_count": 46,
   "metadata": {},
   "outputs": [],
   "source": [
    "# export\n",
    "import numpy as np\n",
    "import pandas as pd\n",
    "\n",
    "# your code here"
   ]
  },
  {
   "cell_type": "code",
   "execution_count": 47,
   "metadata": {},
   "outputs": [
    {
     "data": {
      "text/plain": [
       "array([], dtype=float64)"
      ]
     },
     "execution_count": 47,
     "metadata": {},
     "output_type": "execute_result"
    }
   ],
   "source": [
    "np.array([])"
   ]
  },
  {
   "cell_type": "markdown",
   "metadata": {},
   "source": [
    "## Define notebook parameters\n",
    "\n",
    "Define input, output and additional parameters of this notebook, the information needed for running the notebook.\n",
    "In your own project, you can do this step in the later iterations of the work,\n",
    "when you know what is required.\n",
    "In this cell, only assing values to variables directly: `variable_name = value`.\n",
    "**Do not derive any information in this cell as it will mess up the parameterization** - do it in the cell below."
   ]
  },
  {
   "cell_type": "code",
   "execution_count": 48,
   "metadata": {
    "tags": [
     "parameters"
    ]
   },
   "outputs": [],
   "source": [
    "# This cell is tagged with 'parameters'\n",
    "seed = 0\n",
    "data_adress = (\n",
    "    \"https://api.worldbank.org/v2/en/indicator/TX.VAL.TECH.MF.ZS?downloadformat=csv\"\n",
    ")\n",
    "zip_name = \"data.zip\"\n",
    "# your code here"
   ]
  },
  {
   "cell_type": "markdown",
   "metadata": {},
   "source": [
    "Define any immediate derivative operations from the parameters:"
   ]
  },
  {
   "cell_type": "code",
   "execution_count": 49,
   "metadata": {},
   "outputs": [],
   "source": [
    "# set seed\n",
    "np.random.seed(seed)\n",
    "# your code here"
   ]
  },
  {
   "cell_type": "markdown",
   "metadata": {},
   "source": [
    "## Load the data"
   ]
  },
  {
   "cell_type": "markdown",
   "metadata": {},
   "source": [
    "Load zip"
   ]
  },
  {
   "cell_type": "code",
   "execution_count": 50,
   "metadata": {},
   "outputs": [],
   "source": [
    "import requests\n",
    "from pathlib import Path\n",
    "\n",
    "# where data is loaded from\n",
    "data_adress = (\n",
    "    \"https://api.worldbank.org/v2/en/indicator/TX.VAL.TECH.MF.ZS?downloadformat=csv\"\n",
    ")\n",
    "# name of zip file to be saved\n",
    "zip_name = \"data.zip\"\n",
    "\n",
    "# filepath to raw data folder\n",
    "raw_data_path = Path().cwd() / \"data\" / \"raw_data\"\n",
    "# open file to write in binary mode, and call it f\n",
    "with open(raw_data_path / zip_name, \"wb\") as f:\n",
    "    # load file content with requests\n",
    "    loaded_file = requests.get(data_adress).content\n",
    "    # write contents to file\n",
    "    f.write(loaded_file)"
   ]
  },
  {
   "cell_type": "code",
   "execution_count": 51,
   "metadata": {},
   "outputs": [],
   "source": [
    "from zipfile import ZipFile\n",
    "\n",
    "# extract zip\n",
    "with ZipFile(raw_data_path / zip_name) as myzip:\n",
    "    myzip.extractall(raw_data_path)  # , members=None, pwd=None)"
   ]
  },
  {
   "cell_type": "code",
   "execution_count": 52,
   "metadata": {},
   "outputs": [
    {
     "data": {
      "text/html": [
       "<div>\n",
       "<style scoped>\n",
       "    .dataframe tbody tr th:only-of-type {\n",
       "        vertical-align: middle;\n",
       "    }\n",
       "\n",
       "    .dataframe tbody tr th {\n",
       "        vertical-align: top;\n",
       "    }\n",
       "\n",
       "    .dataframe thead th {\n",
       "        text-align: right;\n",
       "    }\n",
       "</style>\n",
       "<table border=\"1\" class=\"dataframe\">\n",
       "  <thead>\n",
       "    <tr style=\"text-align: right;\">\n",
       "      <th></th>\n",
       "      <th>Country Name</th>\n",
       "      <th>Country Code</th>\n",
       "      <th>Indicator Name</th>\n",
       "      <th>Indicator Code</th>\n",
       "      <th>1960</th>\n",
       "      <th>1961</th>\n",
       "      <th>1962</th>\n",
       "      <th>1963</th>\n",
       "      <th>1964</th>\n",
       "      <th>1965</th>\n",
       "      <th>...</th>\n",
       "      <th>2012</th>\n",
       "      <th>2013</th>\n",
       "      <th>2014</th>\n",
       "      <th>2015</th>\n",
       "      <th>2016</th>\n",
       "      <th>2017</th>\n",
       "      <th>2018</th>\n",
       "      <th>2019</th>\n",
       "      <th>2020</th>\n",
       "      <th>Unnamed: 65</th>\n",
       "    </tr>\n",
       "  </thead>\n",
       "  <tbody>\n",
       "    <tr>\n",
       "      <th>0</th>\n",
       "      <td>Aruba</td>\n",
       "      <td>ABW</td>\n",
       "      <td>High-technology exports (% of manufactured exp...</td>\n",
       "      <td>TX.VAL.TECH.MF.ZS</td>\n",
       "      <td>NaN</td>\n",
       "      <td>NaN</td>\n",
       "      <td>NaN</td>\n",
       "      <td>NaN</td>\n",
       "      <td>NaN</td>\n",
       "      <td>NaN</td>\n",
       "      <td>...</td>\n",
       "      <td>11.259181</td>\n",
       "      <td>5.140044</td>\n",
       "      <td>7.322688</td>\n",
       "      <td>4.968986</td>\n",
       "      <td>4.042395</td>\n",
       "      <td>6.540015</td>\n",
       "      <td>8.314288</td>\n",
       "      <td>4.353669</td>\n",
       "      <td>6.756353</td>\n",
       "      <td>NaN</td>\n",
       "    </tr>\n",
       "    <tr>\n",
       "      <th>1</th>\n",
       "      <td>Africa Eastern and Southern</td>\n",
       "      <td>AFE</td>\n",
       "      <td>High-technology exports (% of manufactured exp...</td>\n",
       "      <td>TX.VAL.TECH.MF.ZS</td>\n",
       "      <td>NaN</td>\n",
       "      <td>NaN</td>\n",
       "      <td>NaN</td>\n",
       "      <td>NaN</td>\n",
       "      <td>NaN</td>\n",
       "      <td>NaN</td>\n",
       "      <td>...</td>\n",
       "      <td>NaN</td>\n",
       "      <td>5.235444</td>\n",
       "      <td>NaN</td>\n",
       "      <td>6.764526</td>\n",
       "      <td>6.915408</td>\n",
       "      <td>7.021332</td>\n",
       "      <td>4.279257</td>\n",
       "      <td>7.479589</td>\n",
       "      <td>4.521764</td>\n",
       "      <td>NaN</td>\n",
       "    </tr>\n",
       "    <tr>\n",
       "      <th>2</th>\n",
       "      <td>Afghanistan</td>\n",
       "      <td>AFG</td>\n",
       "      <td>High-technology exports (% of manufactured exp...</td>\n",
       "      <td>TX.VAL.TECH.MF.ZS</td>\n",
       "      <td>NaN</td>\n",
       "      <td>NaN</td>\n",
       "      <td>NaN</td>\n",
       "      <td>NaN</td>\n",
       "      <td>NaN</td>\n",
       "      <td>NaN</td>\n",
       "      <td>...</td>\n",
       "      <td>NaN</td>\n",
       "      <td>NaN</td>\n",
       "      <td>NaN</td>\n",
       "      <td>NaN</td>\n",
       "      <td>NaN</td>\n",
       "      <td>NaN</td>\n",
       "      <td>0.000000</td>\n",
       "      <td>0.000000</td>\n",
       "      <td>NaN</td>\n",
       "      <td>NaN</td>\n",
       "    </tr>\n",
       "    <tr>\n",
       "      <th>3</th>\n",
       "      <td>Africa Western and Central</td>\n",
       "      <td>AFW</td>\n",
       "      <td>High-technology exports (% of manufactured exp...</td>\n",
       "      <td>TX.VAL.TECH.MF.ZS</td>\n",
       "      <td>NaN</td>\n",
       "      <td>NaN</td>\n",
       "      <td>NaN</td>\n",
       "      <td>NaN</td>\n",
       "      <td>NaN</td>\n",
       "      <td>NaN</td>\n",
       "      <td>...</td>\n",
       "      <td>3.039060</td>\n",
       "      <td>4.141179</td>\n",
       "      <td>4.299683</td>\n",
       "      <td>8.553370</td>\n",
       "      <td>3.343442</td>\n",
       "      <td>3.618065</td>\n",
       "      <td>4.075787</td>\n",
       "      <td>3.609411</td>\n",
       "      <td>NaN</td>\n",
       "      <td>NaN</td>\n",
       "    </tr>\n",
       "    <tr>\n",
       "      <th>4</th>\n",
       "      <td>Angola</td>\n",
       "      <td>AGO</td>\n",
       "      <td>High-technology exports (% of manufactured exp...</td>\n",
       "      <td>TX.VAL.TECH.MF.ZS</td>\n",
       "      <td>NaN</td>\n",
       "      <td>NaN</td>\n",
       "      <td>NaN</td>\n",
       "      <td>NaN</td>\n",
       "      <td>NaN</td>\n",
       "      <td>NaN</td>\n",
       "      <td>...</td>\n",
       "      <td>NaN</td>\n",
       "      <td>NaN</td>\n",
       "      <td>NaN</td>\n",
       "      <td>12.604486</td>\n",
       "      <td>12.984726</td>\n",
       "      <td>19.382345</td>\n",
       "      <td>3.971136</td>\n",
       "      <td>26.385133</td>\n",
       "      <td>NaN</td>\n",
       "      <td>NaN</td>\n",
       "    </tr>\n",
       "  </tbody>\n",
       "</table>\n",
       "<p>5 rows × 66 columns</p>\n",
       "</div>"
      ],
      "text/plain": [
       "                  Country Name Country Code  \\\n",
       "0                        Aruba          ABW   \n",
       "1  Africa Eastern and Southern          AFE   \n",
       "2                  Afghanistan          AFG   \n",
       "3   Africa Western and Central          AFW   \n",
       "4                       Angola          AGO   \n",
       "\n",
       "                                      Indicator Name     Indicator Code  1960  \\\n",
       "0  High-technology exports (% of manufactured exp...  TX.VAL.TECH.MF.ZS   NaN   \n",
       "1  High-technology exports (% of manufactured exp...  TX.VAL.TECH.MF.ZS   NaN   \n",
       "2  High-technology exports (% of manufactured exp...  TX.VAL.TECH.MF.ZS   NaN   \n",
       "3  High-technology exports (% of manufactured exp...  TX.VAL.TECH.MF.ZS   NaN   \n",
       "4  High-technology exports (% of manufactured exp...  TX.VAL.TECH.MF.ZS   NaN   \n",
       "\n",
       "   1961  1962  1963  1964  1965  ...       2012      2013      2014  \\\n",
       "0   NaN   NaN   NaN   NaN   NaN  ...  11.259181  5.140044  7.322688   \n",
       "1   NaN   NaN   NaN   NaN   NaN  ...        NaN  5.235444       NaN   \n",
       "2   NaN   NaN   NaN   NaN   NaN  ...        NaN       NaN       NaN   \n",
       "3   NaN   NaN   NaN   NaN   NaN  ...   3.039060  4.141179  4.299683   \n",
       "4   NaN   NaN   NaN   NaN   NaN  ...        NaN       NaN       NaN   \n",
       "\n",
       "        2015       2016       2017      2018       2019      2020  Unnamed: 65  \n",
       "0   4.968986   4.042395   6.540015  8.314288   4.353669  6.756353          NaN  \n",
       "1   6.764526   6.915408   7.021332  4.279257   7.479589  4.521764          NaN  \n",
       "2        NaN        NaN        NaN  0.000000   0.000000       NaN          NaN  \n",
       "3   8.553370   3.343442   3.618065  4.075787   3.609411       NaN          NaN  \n",
       "4  12.604486  12.984726  19.382345  3.971136  26.385133       NaN          NaN  \n",
       "\n",
       "[5 rows x 66 columns]"
      ]
     },
     "execution_count": 52,
     "metadata": {},
     "output_type": "execute_result"
    }
   ],
   "source": [
    "# read csv\n",
    "csvfile1 = \"API_TX.VAL.TECH.MF.ZS_DS2_en_csv_v2_3733541.csv\"\n",
    "df = pd.read_csv(raw_data_path / csvfile1, skiprows=3)\n",
    "df.head()"
   ]
  },
  {
   "cell_type": "code",
   "execution_count": 53,
   "metadata": {},
   "outputs": [
    {
     "data": {
      "text/html": [
       "<div>\n",
       "<style scoped>\n",
       "    .dataframe tbody tr th:only-of-type {\n",
       "        vertical-align: middle;\n",
       "    }\n",
       "\n",
       "    .dataframe tbody tr th {\n",
       "        vertical-align: top;\n",
       "    }\n",
       "\n",
       "    .dataframe thead th {\n",
       "        text-align: right;\n",
       "    }\n",
       "</style>\n",
       "<table border=\"1\" class=\"dataframe\">\n",
       "  <thead>\n",
       "    <tr style=\"text-align: right;\">\n",
       "      <th></th>\n",
       "      <th>Country Name</th>\n",
       "      <th>Country Code</th>\n",
       "      <th>Indicator Name</th>\n",
       "      <th>Indicator Code</th>\n",
       "      <th>1960</th>\n",
       "      <th>1961</th>\n",
       "      <th>1962</th>\n",
       "      <th>1963</th>\n",
       "      <th>1964</th>\n",
       "      <th>1965</th>\n",
       "      <th>...</th>\n",
       "      <th>2012</th>\n",
       "      <th>2013</th>\n",
       "      <th>2014</th>\n",
       "      <th>2015</th>\n",
       "      <th>2016</th>\n",
       "      <th>2017</th>\n",
       "      <th>2018</th>\n",
       "      <th>2019</th>\n",
       "      <th>2020</th>\n",
       "      <th>Unnamed: 65</th>\n",
       "    </tr>\n",
       "  </thead>\n",
       "  <tbody>\n",
       "    <tr>\n",
       "      <th>0</th>\n",
       "      <td>Aruba</td>\n",
       "      <td>ABW</td>\n",
       "      <td>High-technology exports (% of manufactured exp...</td>\n",
       "      <td>TX.VAL.TECH.MF.ZS</td>\n",
       "      <td>NaN</td>\n",
       "      <td>NaN</td>\n",
       "      <td>NaN</td>\n",
       "      <td>NaN</td>\n",
       "      <td>NaN</td>\n",
       "      <td>NaN</td>\n",
       "      <td>...</td>\n",
       "      <td>11.259181</td>\n",
       "      <td>5.140044</td>\n",
       "      <td>7.322688</td>\n",
       "      <td>4.968986</td>\n",
       "      <td>4.042395</td>\n",
       "      <td>6.540015</td>\n",
       "      <td>8.314288</td>\n",
       "      <td>4.353669</td>\n",
       "      <td>6.756353</td>\n",
       "      <td>NaN</td>\n",
       "    </tr>\n",
       "    <tr>\n",
       "      <th>1</th>\n",
       "      <td>Africa Eastern and Southern</td>\n",
       "      <td>AFE</td>\n",
       "      <td>High-technology exports (% of manufactured exp...</td>\n",
       "      <td>TX.VAL.TECH.MF.ZS</td>\n",
       "      <td>NaN</td>\n",
       "      <td>NaN</td>\n",
       "      <td>NaN</td>\n",
       "      <td>NaN</td>\n",
       "      <td>NaN</td>\n",
       "      <td>NaN</td>\n",
       "      <td>...</td>\n",
       "      <td>NaN</td>\n",
       "      <td>5.235444</td>\n",
       "      <td>NaN</td>\n",
       "      <td>6.764526</td>\n",
       "      <td>6.915408</td>\n",
       "      <td>7.021332</td>\n",
       "      <td>4.279257</td>\n",
       "      <td>7.479589</td>\n",
       "      <td>4.521764</td>\n",
       "      <td>NaN</td>\n",
       "    </tr>\n",
       "    <tr>\n",
       "      <th>2</th>\n",
       "      <td>Afghanistan</td>\n",
       "      <td>AFG</td>\n",
       "      <td>High-technology exports (% of manufactured exp...</td>\n",
       "      <td>TX.VAL.TECH.MF.ZS</td>\n",
       "      <td>NaN</td>\n",
       "      <td>NaN</td>\n",
       "      <td>NaN</td>\n",
       "      <td>NaN</td>\n",
       "      <td>NaN</td>\n",
       "      <td>NaN</td>\n",
       "      <td>...</td>\n",
       "      <td>NaN</td>\n",
       "      <td>NaN</td>\n",
       "      <td>NaN</td>\n",
       "      <td>NaN</td>\n",
       "      <td>NaN</td>\n",
       "      <td>NaN</td>\n",
       "      <td>0.000000</td>\n",
       "      <td>0.000000</td>\n",
       "      <td>NaN</td>\n",
       "      <td>NaN</td>\n",
       "    </tr>\n",
       "    <tr>\n",
       "      <th>3</th>\n",
       "      <td>Africa Western and Central</td>\n",
       "      <td>AFW</td>\n",
       "      <td>High-technology exports (% of manufactured exp...</td>\n",
       "      <td>TX.VAL.TECH.MF.ZS</td>\n",
       "      <td>NaN</td>\n",
       "      <td>NaN</td>\n",
       "      <td>NaN</td>\n",
       "      <td>NaN</td>\n",
       "      <td>NaN</td>\n",
       "      <td>NaN</td>\n",
       "      <td>...</td>\n",
       "      <td>3.039060</td>\n",
       "      <td>4.141179</td>\n",
       "      <td>4.299683</td>\n",
       "      <td>8.553370</td>\n",
       "      <td>3.343442</td>\n",
       "      <td>3.618065</td>\n",
       "      <td>4.075787</td>\n",
       "      <td>3.609411</td>\n",
       "      <td>NaN</td>\n",
       "      <td>NaN</td>\n",
       "    </tr>\n",
       "    <tr>\n",
       "      <th>4</th>\n",
       "      <td>Angola</td>\n",
       "      <td>AGO</td>\n",
       "      <td>High-technology exports (% of manufactured exp...</td>\n",
       "      <td>TX.VAL.TECH.MF.ZS</td>\n",
       "      <td>NaN</td>\n",
       "      <td>NaN</td>\n",
       "      <td>NaN</td>\n",
       "      <td>NaN</td>\n",
       "      <td>NaN</td>\n",
       "      <td>NaN</td>\n",
       "      <td>...</td>\n",
       "      <td>NaN</td>\n",
       "      <td>NaN</td>\n",
       "      <td>NaN</td>\n",
       "      <td>12.604486</td>\n",
       "      <td>12.984726</td>\n",
       "      <td>19.382345</td>\n",
       "      <td>3.971136</td>\n",
       "      <td>26.385133</td>\n",
       "      <td>NaN</td>\n",
       "      <td>NaN</td>\n",
       "    </tr>\n",
       "  </tbody>\n",
       "</table>\n",
       "<p>5 rows × 66 columns</p>\n",
       "</div>"
      ],
      "text/plain": [
       "                  Country Name Country Code  \\\n",
       "0                        Aruba          ABW   \n",
       "1  Africa Eastern and Southern          AFE   \n",
       "2                  Afghanistan          AFG   \n",
       "3   Africa Western and Central          AFW   \n",
       "4                       Angola          AGO   \n",
       "\n",
       "                                      Indicator Name     Indicator Code  1960  \\\n",
       "0  High-technology exports (% of manufactured exp...  TX.VAL.TECH.MF.ZS   NaN   \n",
       "1  High-technology exports (% of manufactured exp...  TX.VAL.TECH.MF.ZS   NaN   \n",
       "2  High-technology exports (% of manufactured exp...  TX.VAL.TECH.MF.ZS   NaN   \n",
       "3  High-technology exports (% of manufactured exp...  TX.VAL.TECH.MF.ZS   NaN   \n",
       "4  High-technology exports (% of manufactured exp...  TX.VAL.TECH.MF.ZS   NaN   \n",
       "\n",
       "   1961  1962  1963  1964  1965  ...       2012      2013      2014  \\\n",
       "0   NaN   NaN   NaN   NaN   NaN  ...  11.259181  5.140044  7.322688   \n",
       "1   NaN   NaN   NaN   NaN   NaN  ...        NaN  5.235444       NaN   \n",
       "2   NaN   NaN   NaN   NaN   NaN  ...        NaN       NaN       NaN   \n",
       "3   NaN   NaN   NaN   NaN   NaN  ...   3.039060  4.141179  4.299683   \n",
       "4   NaN   NaN   NaN   NaN   NaN  ...        NaN       NaN       NaN   \n",
       "\n",
       "        2015       2016       2017      2018       2019      2020  Unnamed: 65  \n",
       "0   4.968986   4.042395   6.540015  8.314288   4.353669  6.756353          NaN  \n",
       "1   6.764526   6.915408   7.021332  4.279257   7.479589  4.521764          NaN  \n",
       "2        NaN        NaN        NaN  0.000000   0.000000       NaN          NaN  \n",
       "3   8.553370   3.343442   3.618065  4.075787   3.609411       NaN          NaN  \n",
       "4  12.604486  12.984726  19.382345  3.971136  26.385133       NaN          NaN  \n",
       "\n",
       "[5 rows x 66 columns]"
      ]
     },
     "execution_count": 53,
     "metadata": {},
     "output_type": "execute_result"
    }
   ],
   "source": [
    "# drop last (empty) col\n",
    "df.drop(df.columns[-1], axis=1)\n",
    "df.head()"
   ]
  },
  {
   "cell_type": "markdown",
   "metadata": {},
   "source": [
    "## Describe the data\n",
    "\n",
    "Define data points, features and labels"
   ]
  },
  {
   "cell_type": "code",
   "execution_count": 54,
   "metadata": {},
   "outputs": [
    {
     "data": {
      "text/plain": [
       "Country Name      266\n",
       "Country Code      266\n",
       "Indicator Name      1\n",
       "Indicator Code      1\n",
       "1960                0\n",
       "                 ... \n",
       "2017              203\n",
       "2018              197\n",
       "2019              184\n",
       "2020              162\n",
       "Unnamed: 65         0\n",
       "Length: 66, dtype: int64"
      ]
     },
     "execution_count": 54,
     "metadata": {},
     "output_type": "execute_result"
    }
   ],
   "source": [
    "df.nunique()"
   ]
  },
  {
   "cell_type": "code",
   "execution_count": 55,
   "metadata": {},
   "outputs": [
    {
     "data": {
      "text/html": [
       "<div>\n",
       "<style scoped>\n",
       "    .dataframe tbody tr th:only-of-type {\n",
       "        vertical-align: middle;\n",
       "    }\n",
       "\n",
       "    .dataframe tbody tr th {\n",
       "        vertical-align: top;\n",
       "    }\n",
       "\n",
       "    .dataframe thead th {\n",
       "        text-align: right;\n",
       "    }\n",
       "</style>\n",
       "<table border=\"1\" class=\"dataframe\">\n",
       "  <thead>\n",
       "    <tr style=\"text-align: right;\">\n",
       "      <th></th>\n",
       "      <th>Country Code</th>\n",
       "      <th>1960</th>\n",
       "      <th>1961</th>\n",
       "      <th>1962</th>\n",
       "      <th>1963</th>\n",
       "      <th>1964</th>\n",
       "      <th>1965</th>\n",
       "      <th>1966</th>\n",
       "      <th>1967</th>\n",
       "      <th>1968</th>\n",
       "      <th>...</th>\n",
       "      <th>2012</th>\n",
       "      <th>2013</th>\n",
       "      <th>2014</th>\n",
       "      <th>2015</th>\n",
       "      <th>2016</th>\n",
       "      <th>2017</th>\n",
       "      <th>2018</th>\n",
       "      <th>2019</th>\n",
       "      <th>2020</th>\n",
       "      <th>Unnamed: 65</th>\n",
       "    </tr>\n",
       "  </thead>\n",
       "  <tbody>\n",
       "    <tr>\n",
       "      <th>0</th>\n",
       "      <td>ABW</td>\n",
       "      <td>NaN</td>\n",
       "      <td>NaN</td>\n",
       "      <td>NaN</td>\n",
       "      <td>NaN</td>\n",
       "      <td>NaN</td>\n",
       "      <td>NaN</td>\n",
       "      <td>NaN</td>\n",
       "      <td>NaN</td>\n",
       "      <td>NaN</td>\n",
       "      <td>...</td>\n",
       "      <td>11.259181</td>\n",
       "      <td>5.140044</td>\n",
       "      <td>7.322688</td>\n",
       "      <td>4.968986</td>\n",
       "      <td>4.042395</td>\n",
       "      <td>6.540015</td>\n",
       "      <td>8.314288</td>\n",
       "      <td>4.353669</td>\n",
       "      <td>6.756353</td>\n",
       "      <td>NaN</td>\n",
       "    </tr>\n",
       "    <tr>\n",
       "      <th>1</th>\n",
       "      <td>AFE</td>\n",
       "      <td>NaN</td>\n",
       "      <td>NaN</td>\n",
       "      <td>NaN</td>\n",
       "      <td>NaN</td>\n",
       "      <td>NaN</td>\n",
       "      <td>NaN</td>\n",
       "      <td>NaN</td>\n",
       "      <td>NaN</td>\n",
       "      <td>NaN</td>\n",
       "      <td>...</td>\n",
       "      <td>NaN</td>\n",
       "      <td>5.235444</td>\n",
       "      <td>NaN</td>\n",
       "      <td>6.764526</td>\n",
       "      <td>6.915408</td>\n",
       "      <td>7.021332</td>\n",
       "      <td>4.279257</td>\n",
       "      <td>7.479589</td>\n",
       "      <td>4.521764</td>\n",
       "      <td>NaN</td>\n",
       "    </tr>\n",
       "    <tr>\n",
       "      <th>2</th>\n",
       "      <td>AFG</td>\n",
       "      <td>NaN</td>\n",
       "      <td>NaN</td>\n",
       "      <td>NaN</td>\n",
       "      <td>NaN</td>\n",
       "      <td>NaN</td>\n",
       "      <td>NaN</td>\n",
       "      <td>NaN</td>\n",
       "      <td>NaN</td>\n",
       "      <td>NaN</td>\n",
       "      <td>...</td>\n",
       "      <td>NaN</td>\n",
       "      <td>NaN</td>\n",
       "      <td>NaN</td>\n",
       "      <td>NaN</td>\n",
       "      <td>NaN</td>\n",
       "      <td>NaN</td>\n",
       "      <td>0.000000</td>\n",
       "      <td>0.000000</td>\n",
       "      <td>NaN</td>\n",
       "      <td>NaN</td>\n",
       "    </tr>\n",
       "    <tr>\n",
       "      <th>3</th>\n",
       "      <td>AFW</td>\n",
       "      <td>NaN</td>\n",
       "      <td>NaN</td>\n",
       "      <td>NaN</td>\n",
       "      <td>NaN</td>\n",
       "      <td>NaN</td>\n",
       "      <td>NaN</td>\n",
       "      <td>NaN</td>\n",
       "      <td>NaN</td>\n",
       "      <td>NaN</td>\n",
       "      <td>...</td>\n",
       "      <td>3.039060</td>\n",
       "      <td>4.141179</td>\n",
       "      <td>4.299683</td>\n",
       "      <td>8.553370</td>\n",
       "      <td>3.343442</td>\n",
       "      <td>3.618065</td>\n",
       "      <td>4.075787</td>\n",
       "      <td>3.609411</td>\n",
       "      <td>NaN</td>\n",
       "      <td>NaN</td>\n",
       "    </tr>\n",
       "    <tr>\n",
       "      <th>4</th>\n",
       "      <td>AGO</td>\n",
       "      <td>NaN</td>\n",
       "      <td>NaN</td>\n",
       "      <td>NaN</td>\n",
       "      <td>NaN</td>\n",
       "      <td>NaN</td>\n",
       "      <td>NaN</td>\n",
       "      <td>NaN</td>\n",
       "      <td>NaN</td>\n",
       "      <td>NaN</td>\n",
       "      <td>...</td>\n",
       "      <td>NaN</td>\n",
       "      <td>NaN</td>\n",
       "      <td>NaN</td>\n",
       "      <td>12.604486</td>\n",
       "      <td>12.984726</td>\n",
       "      <td>19.382345</td>\n",
       "      <td>3.971136</td>\n",
       "      <td>26.385133</td>\n",
       "      <td>NaN</td>\n",
       "      <td>NaN</td>\n",
       "    </tr>\n",
       "  </tbody>\n",
       "</table>\n",
       "<p>5 rows × 63 columns</p>\n",
       "</div>"
      ],
      "text/plain": [
       "  Country Code  1960  1961  1962  1963  1964  1965  1966  1967  1968  ...  \\\n",
       "0          ABW   NaN   NaN   NaN   NaN   NaN   NaN   NaN   NaN   NaN  ...   \n",
       "1          AFE   NaN   NaN   NaN   NaN   NaN   NaN   NaN   NaN   NaN  ...   \n",
       "2          AFG   NaN   NaN   NaN   NaN   NaN   NaN   NaN   NaN   NaN  ...   \n",
       "3          AFW   NaN   NaN   NaN   NaN   NaN   NaN   NaN   NaN   NaN  ...   \n",
       "4          AGO   NaN   NaN   NaN   NaN   NaN   NaN   NaN   NaN   NaN  ...   \n",
       "\n",
       "        2012      2013      2014       2015       2016       2017      2018  \\\n",
       "0  11.259181  5.140044  7.322688   4.968986   4.042395   6.540015  8.314288   \n",
       "1        NaN  5.235444       NaN   6.764526   6.915408   7.021332  4.279257   \n",
       "2        NaN       NaN       NaN        NaN        NaN        NaN  0.000000   \n",
       "3   3.039060  4.141179  4.299683   8.553370   3.343442   3.618065  4.075787   \n",
       "4        NaN       NaN       NaN  12.604486  12.984726  19.382345  3.971136   \n",
       "\n",
       "        2019      2020  Unnamed: 65  \n",
       "0   4.353669  6.756353          NaN  \n",
       "1   7.479589  4.521764          NaN  \n",
       "2   0.000000       NaN          NaN  \n",
       "3   3.609411       NaN          NaN  \n",
       "4  26.385133       NaN          NaN  \n",
       "\n",
       "[5 rows x 63 columns]"
      ]
     },
     "execution_count": 55,
     "metadata": {},
     "output_type": "execute_result"
    }
   ],
   "source": [
    "df.drop([\"Country Name\", \"Indicator Name\", \"Indicator Code\"], axis=1, inplace=True)\n",
    "df.head()"
   ]
  },
  {
   "cell_type": "code",
   "execution_count": 56,
   "metadata": {},
   "outputs": [
    {
     "data": {
      "text/plain": [
       "Country Code      0\n",
       "1960            266\n",
       "1961            266\n",
       "1962            266\n",
       "1963            266\n",
       "               ... \n",
       "2017             60\n",
       "2018             65\n",
       "2019             76\n",
       "2020            100\n",
       "Unnamed: 65     266\n",
       "Length: 63, dtype: int64"
      ]
     },
     "execution_count": 56,
     "metadata": {},
     "output_type": "execute_result"
    }
   ],
   "source": [
    "df.isna().sum()"
   ]
  },
  {
   "cell_type": "code",
   "execution_count": 57,
   "metadata": {},
   "outputs": [
    {
     "data": {
      "text/plain": [
       "Country Code     object\n",
       "1960            float64\n",
       "1961            float64\n",
       "1962            float64\n",
       "1963            float64\n",
       "                 ...   \n",
       "2017            float64\n",
       "2018            float64\n",
       "2019            float64\n",
       "2020            float64\n",
       "Unnamed: 65     float64\n",
       "Length: 63, dtype: object"
      ]
     },
     "execution_count": 57,
     "metadata": {},
     "output_type": "execute_result"
    }
   ],
   "source": [
    "df.dtypes"
   ]
  },
  {
   "cell_type": "code",
   "execution_count": 58,
   "metadata": {},
   "outputs": [],
   "source": [
    "df[\"Country Code\"] = df[\"Country Code\"].astype(\"category\")"
   ]
  },
  {
   "cell_type": "code",
   "execution_count": 59,
   "metadata": {},
   "outputs": [
    {
     "data": {
      "text/html": [
       "<div>\n",
       "<style scoped>\n",
       "    .dataframe tbody tr th:only-of-type {\n",
       "        vertical-align: middle;\n",
       "    }\n",
       "\n",
       "    .dataframe tbody tr th {\n",
       "        vertical-align: top;\n",
       "    }\n",
       "\n",
       "    .dataframe thead th {\n",
       "        text-align: right;\n",
       "    }\n",
       "</style>\n",
       "<table border=\"1\" class=\"dataframe\">\n",
       "  <thead>\n",
       "    <tr style=\"text-align: right;\">\n",
       "      <th></th>\n",
       "      <th>Country Code</th>\n",
       "      <th>1960</th>\n",
       "      <th>1961</th>\n",
       "      <th>1962</th>\n",
       "      <th>1963</th>\n",
       "      <th>1964</th>\n",
       "      <th>1965</th>\n",
       "      <th>1966</th>\n",
       "      <th>1967</th>\n",
       "      <th>1968</th>\n",
       "      <th>...</th>\n",
       "      <th>2012</th>\n",
       "      <th>2013</th>\n",
       "      <th>2014</th>\n",
       "      <th>2015</th>\n",
       "      <th>2016</th>\n",
       "      <th>2017</th>\n",
       "      <th>2018</th>\n",
       "      <th>2019</th>\n",
       "      <th>2020</th>\n",
       "      <th>Unnamed: 65</th>\n",
       "    </tr>\n",
       "  </thead>\n",
       "  <tbody>\n",
       "    <tr>\n",
       "      <th>0</th>\n",
       "      <td>ABW</td>\n",
       "      <td>NaN</td>\n",
       "      <td>NaN</td>\n",
       "      <td>NaN</td>\n",
       "      <td>NaN</td>\n",
       "      <td>NaN</td>\n",
       "      <td>NaN</td>\n",
       "      <td>NaN</td>\n",
       "      <td>NaN</td>\n",
       "      <td>NaN</td>\n",
       "      <td>...</td>\n",
       "      <td>11.259181</td>\n",
       "      <td>5.140044</td>\n",
       "      <td>7.322688</td>\n",
       "      <td>4.968986</td>\n",
       "      <td>4.042395</td>\n",
       "      <td>6.540015</td>\n",
       "      <td>8.314288</td>\n",
       "      <td>4.353669</td>\n",
       "      <td>6.756353</td>\n",
       "      <td>NaN</td>\n",
       "    </tr>\n",
       "    <tr>\n",
       "      <th>1</th>\n",
       "      <td>AFE</td>\n",
       "      <td>NaN</td>\n",
       "      <td>NaN</td>\n",
       "      <td>NaN</td>\n",
       "      <td>NaN</td>\n",
       "      <td>NaN</td>\n",
       "      <td>NaN</td>\n",
       "      <td>NaN</td>\n",
       "      <td>NaN</td>\n",
       "      <td>NaN</td>\n",
       "      <td>...</td>\n",
       "      <td>NaN</td>\n",
       "      <td>5.235444</td>\n",
       "      <td>NaN</td>\n",
       "      <td>6.764526</td>\n",
       "      <td>6.915408</td>\n",
       "      <td>7.021332</td>\n",
       "      <td>4.279257</td>\n",
       "      <td>7.479589</td>\n",
       "      <td>4.521764</td>\n",
       "      <td>NaN</td>\n",
       "    </tr>\n",
       "    <tr>\n",
       "      <th>2</th>\n",
       "      <td>AFG</td>\n",
       "      <td>NaN</td>\n",
       "      <td>NaN</td>\n",
       "      <td>NaN</td>\n",
       "      <td>NaN</td>\n",
       "      <td>NaN</td>\n",
       "      <td>NaN</td>\n",
       "      <td>NaN</td>\n",
       "      <td>NaN</td>\n",
       "      <td>NaN</td>\n",
       "      <td>...</td>\n",
       "      <td>NaN</td>\n",
       "      <td>NaN</td>\n",
       "      <td>NaN</td>\n",
       "      <td>NaN</td>\n",
       "      <td>NaN</td>\n",
       "      <td>NaN</td>\n",
       "      <td>0.000000</td>\n",
       "      <td>0.000000</td>\n",
       "      <td>NaN</td>\n",
       "      <td>NaN</td>\n",
       "    </tr>\n",
       "    <tr>\n",
       "      <th>3</th>\n",
       "      <td>AFW</td>\n",
       "      <td>NaN</td>\n",
       "      <td>NaN</td>\n",
       "      <td>NaN</td>\n",
       "      <td>NaN</td>\n",
       "      <td>NaN</td>\n",
       "      <td>NaN</td>\n",
       "      <td>NaN</td>\n",
       "      <td>NaN</td>\n",
       "      <td>NaN</td>\n",
       "      <td>...</td>\n",
       "      <td>3.039060</td>\n",
       "      <td>4.141179</td>\n",
       "      <td>4.299683</td>\n",
       "      <td>8.553370</td>\n",
       "      <td>3.343442</td>\n",
       "      <td>3.618065</td>\n",
       "      <td>4.075787</td>\n",
       "      <td>3.609411</td>\n",
       "      <td>NaN</td>\n",
       "      <td>NaN</td>\n",
       "    </tr>\n",
       "    <tr>\n",
       "      <th>4</th>\n",
       "      <td>AGO</td>\n",
       "      <td>NaN</td>\n",
       "      <td>NaN</td>\n",
       "      <td>NaN</td>\n",
       "      <td>NaN</td>\n",
       "      <td>NaN</td>\n",
       "      <td>NaN</td>\n",
       "      <td>NaN</td>\n",
       "      <td>NaN</td>\n",
       "      <td>NaN</td>\n",
       "      <td>...</td>\n",
       "      <td>NaN</td>\n",
       "      <td>NaN</td>\n",
       "      <td>NaN</td>\n",
       "      <td>12.604486</td>\n",
       "      <td>12.984726</td>\n",
       "      <td>19.382345</td>\n",
       "      <td>3.971136</td>\n",
       "      <td>26.385133</td>\n",
       "      <td>NaN</td>\n",
       "      <td>NaN</td>\n",
       "    </tr>\n",
       "  </tbody>\n",
       "</table>\n",
       "<p>5 rows × 63 columns</p>\n",
       "</div>"
      ],
      "text/plain": [
       "  Country Code  1960  1961  1962  1963  1964  1965  1966  1967  1968  ...  \\\n",
       "0          ABW   NaN   NaN   NaN   NaN   NaN   NaN   NaN   NaN   NaN  ...   \n",
       "1          AFE   NaN   NaN   NaN   NaN   NaN   NaN   NaN   NaN   NaN  ...   \n",
       "2          AFG   NaN   NaN   NaN   NaN   NaN   NaN   NaN   NaN   NaN  ...   \n",
       "3          AFW   NaN   NaN   NaN   NaN   NaN   NaN   NaN   NaN   NaN  ...   \n",
       "4          AGO   NaN   NaN   NaN   NaN   NaN   NaN   NaN   NaN   NaN  ...   \n",
       "\n",
       "        2012      2013      2014       2015       2016       2017      2018  \\\n",
       "0  11.259181  5.140044  7.322688   4.968986   4.042395   6.540015  8.314288   \n",
       "1        NaN  5.235444       NaN   6.764526   6.915408   7.021332  4.279257   \n",
       "2        NaN       NaN       NaN        NaN        NaN        NaN  0.000000   \n",
       "3   3.039060  4.141179  4.299683   8.553370   3.343442   3.618065  4.075787   \n",
       "4        NaN       NaN       NaN  12.604486  12.984726  19.382345  3.971136   \n",
       "\n",
       "        2019      2020  Unnamed: 65  \n",
       "0   4.353669  6.756353          NaN  \n",
       "1   7.479589  4.521764          NaN  \n",
       "2   0.000000       NaN          NaN  \n",
       "3   3.609411       NaN          NaN  \n",
       "4  26.385133       NaN          NaN  \n",
       "\n",
       "[5 rows x 63 columns]"
      ]
     },
     "execution_count": 59,
     "metadata": {},
     "output_type": "execute_result"
    }
   ],
   "source": [
    "df.head()"
   ]
  },
  {
   "cell_type": "code",
   "execution_count": 72,
   "metadata": {},
   "outputs": [],
   "source": [
    "df.set_index(\"Country Code\", inplace=True, drop=True)"
   ]
  },
  {
   "cell_type": "code",
   "execution_count": 97,
   "metadata": {},
   "outputs": [
    {
     "data": {
      "text/plain": [
       "<AxesSubplot:>"
      ]
     },
     "execution_count": 97,
     "metadata": {},
     "output_type": "execute_result"
    },
    {
     "data": {
      "image/png": "[encoded data removed]",
      "text/plain": [
       "<Figure size 432x288 with 1 Axes>"
      ]
     },
     "metadata": {
      "needs_background": "light"
     },
     "output_type": "display_data"
    }
   ],
   "source": [
    "df.T[[\"FIN\", \"SWE\", \"UGA\"]].plot()"
   ]
  },
  {
   "cell_type": "code",
   "execution_count": 95,
   "metadata": {},
   "outputs": [
    {
     "data": {
      "text/plain": [
       "Text(0, 0.5, '% of tech in exports globally')"
      ]
     },
     "execution_count": 95,
     "metadata": {},
     "output_type": "execute_result"
    },
    {
     "data": {
      "image/png": "[encoded data removed]",
      "text/plain": [
       "<Figure size 432x288 with 1 Axes>"
      ]
     },
     "metadata": {
      "needs_background": "light"
     },
     "output_type": "display_data"
    }
   ],
   "source": [
    "import matplotlib.pyplot as plt\n",
    "\n",
    "fig, axs = plt.subplots(1)\n",
    "# mean\n",
    "df.mean().T.plot(ax=axs, label=\"mean\")\n",
    "# std upper boundary\n",
    "(df.mean() - df.std()).T.plot(ax=axs, label=\"std lower\")\n",
    "# std lower boundary\n",
    "(df.mean() + df.std()).T.plot(ax=axs, label=\"std upper\")\n",
    "axs.legend()\n",
    "axs.set_ylabel(\"% of tech in exports globally\")"
   ]
  },
  {
   "cell_type": "markdown",
   "metadata": {},
   "source": [
    "### Palvelurekisteri"
   ]
  },
  {
   "cell_type": "code",
   "execution_count": 99,
   "metadata": {},
   "outputs": [
    {
     "data": {
      "text/html": [
       "<div>\n",
       "<style scoped>\n",
       "    .dataframe tbody tr th:only-of-type {\n",
       "        vertical-align: middle;\n",
       "    }\n",
       "\n",
       "    .dataframe tbody tr th {\n",
       "        vertical-align: top;\n",
       "    }\n",
       "\n",
       "    .dataframe thead th {\n",
       "        text-align: right;\n",
       "    }\n",
       "</style>\n",
       "<table border=\"1\" class=\"dataframe\">\n",
       "  <thead>\n",
       "    <tr style=\"text-align: right;\">\n",
       "      <th></th>\n",
       "      <th>id</th>\n",
       "      <th>main_description</th>\n",
       "      <th>service_id</th>\n",
       "      <th>title</th>\n",
       "      <th>description_short</th>\n",
       "    </tr>\n",
       "  </thead>\n",
       "  <tbody>\n",
       "    <tr>\n",
       "      <th>0</th>\n",
       "      <td>2773</td>\n",
       "      <td>True</td>\n",
       "      <td>10004</td>\n",
       "      <td>Perusopetus</td>\n",
       "      <td>9-vuotisessa peruskoulussa saa yleissivistävän...</td>\n",
       "    </tr>\n",
       "    <tr>\n",
       "      <th>1</th>\n",
       "      <td>3006</td>\n",
       "      <td>False</td>\n",
       "      <td>10004</td>\n",
       "      <td>Koulun kerhotoiminta</td>\n",
       "      <td>Helsinkiläisille peruskoululaisille järjestetä...</td>\n",
       "    </tr>\n",
       "    <tr>\n",
       "      <th>2</th>\n",
       "      <td>3384</td>\n",
       "      <td>False</td>\n",
       "      <td>10004</td>\n",
       "      <td>Joustava perusopetus (JOPO)</td>\n",
       "      <td>Joustavassa perusopetuksessa (JOPO) opiskellaa...</td>\n",
       "    </tr>\n",
       "    <tr>\n",
       "      <th>3</th>\n",
       "      <td>3405</td>\n",
       "      <td>False</td>\n",
       "      <td>10004</td>\n",
       "      <td>Painotettu opetus</td>\n",
       "      <td>Peruskoulut voivat painottaa opetuksessaan tie...</td>\n",
       "    </tr>\n",
       "    <tr>\n",
       "      <th>4</th>\n",
       "      <td>3406</td>\n",
       "      <td>False</td>\n",
       "      <td>10004</td>\n",
       "      <td>Avustajapalvelut ja apuvälineet</td>\n",
       "      <td>Oppilaalla on oikeus saada maksutta opetukseen...</td>\n",
       "    </tr>\n",
       "  </tbody>\n",
       "</table>\n",
       "</div>"
      ],
      "text/plain": [
       "     id  main_description  service_id                            title  \\\n",
       "0  2773              True       10004                      Perusopetus   \n",
       "1  3006             False       10004             Koulun kerhotoiminta   \n",
       "2  3384             False       10004      Joustava perusopetus (JOPO)   \n",
       "3  3405             False       10004                Painotettu opetus   \n",
       "4  3406             False       10004  Avustajapalvelut ja apuvälineet   \n",
       "\n",
       "                                   description_short  \n",
       "0  9-vuotisessa peruskoulussa saa yleissivistävän...  \n",
       "1  Helsinkiläisille peruskoululaisille järjestetä...  \n",
       "2  Joustavassa perusopetuksessa (JOPO) opiskellaa...  \n",
       "3  Peruskoulut voivat painottaa opetuksessaan tie...  \n",
       "4  Oppilaalla on oikeus saada maksutta opetukseen...  "
      ]
     },
     "execution_count": 99,
     "metadata": {},
     "output_type": "execute_result"
    }
   ],
   "source": [
    "df = pd.read_json(\n",
    "    \"https://www.hel.fi/palvelukarttaws/rest/vpalvelurekisteri/description/\"\n",
    ")\n",
    "df.head()"
   ]
  },
  {
   "cell_type": "code",
   "execution_count": 101,
   "metadata": {},
   "outputs": [
    {
     "data": {
      "text/plain": [
       "id                    int64\n",
       "main_description       bool\n",
       "service_id            int64\n",
       "title                object\n",
       "description_short    object\n",
       "dtype: object"
      ]
     },
     "execution_count": 101,
     "metadata": {},
     "output_type": "execute_result"
    }
   ],
   "source": [
    "df.dtypes"
   ]
  },
  {
   "cell_type": "code",
   "execution_count": 102,
   "metadata": {},
   "outputs": [
    {
     "data": {
      "text/plain": [
       "id                   755\n",
       "main_description       2\n",
       "service_id           314\n",
       "title                753\n",
       "description_short    743\n",
       "dtype: int64"
      ]
     },
     "execution_count": 102,
     "metadata": {},
     "output_type": "execute_result"
    }
   ],
   "source": [
    "df.nunique()"
   ]
  },
  {
   "cell_type": "code",
   "execution_count": 119,
   "metadata": {},
   "outputs": [
    {
     "data": {
      "text/plain": [
       "id                    int64\n",
       "main_description       bool\n",
       "service_id            int64\n",
       "title                string\n",
       "description_short    string\n",
       "dtype: object"
      ]
     },
     "execution_count": 119,
     "metadata": {},
     "output_type": "execute_result"
    }
   ],
   "source": [
    "df[\"title\"] = df[\"title\"].astype(\"string\")\n",
    "df.description_short = df.description_short.astype(\"string\")\n",
    "df.dtypes"
   ]
  },
  {
   "cell_type": "code",
   "execution_count": 120,
   "metadata": {},
   "outputs": [
    {
     "data": {
      "text/html": [
       "<div>\n",
       "<style scoped>\n",
       "    .dataframe tbody tr th:only-of-type {\n",
       "        vertical-align: middle;\n",
       "    }\n",
       "\n",
       "    .dataframe tbody tr th {\n",
       "        vertical-align: top;\n",
       "    }\n",
       "\n",
       "    .dataframe thead th {\n",
       "        text-align: right;\n",
       "    }\n",
       "</style>\n",
       "<table border=\"1\" class=\"dataframe\">\n",
       "  <thead>\n",
       "    <tr style=\"text-align: right;\">\n",
       "      <th></th>\n",
       "      <th>id</th>\n",
       "      <th>main_description</th>\n",
       "      <th>service_id</th>\n",
       "      <th>title</th>\n",
       "      <th>description_short</th>\n",
       "    </tr>\n",
       "  </thead>\n",
       "  <tbody>\n",
       "    <tr>\n",
       "      <th>0</th>\n",
       "      <td>2773</td>\n",
       "      <td>True</td>\n",
       "      <td>10004</td>\n",
       "      <td>Perusopetus</td>\n",
       "      <td>9-vuotisessa peruskoulussa saa yleissivistävän...</td>\n",
       "    </tr>\n",
       "    <tr>\n",
       "      <th>1</th>\n",
       "      <td>3006</td>\n",
       "      <td>False</td>\n",
       "      <td>10004</td>\n",
       "      <td>Koulun kerhotoiminta</td>\n",
       "      <td>Helsinkiläisille peruskoululaisille järjestetä...</td>\n",
       "    </tr>\n",
       "    <tr>\n",
       "      <th>2</th>\n",
       "      <td>3384</td>\n",
       "      <td>False</td>\n",
       "      <td>10004</td>\n",
       "      <td>Joustava perusopetus (JOPO)</td>\n",
       "      <td>Joustavassa perusopetuksessa (JOPO) opiskellaa...</td>\n",
       "    </tr>\n",
       "    <tr>\n",
       "      <th>3</th>\n",
       "      <td>3405</td>\n",
       "      <td>False</td>\n",
       "      <td>10004</td>\n",
       "      <td>Painotettu opetus</td>\n",
       "      <td>Peruskoulut voivat painottaa opetuksessaan tie...</td>\n",
       "    </tr>\n",
       "    <tr>\n",
       "      <th>4</th>\n",
       "      <td>3406</td>\n",
       "      <td>False</td>\n",
       "      <td>10004</td>\n",
       "      <td>Avustajapalvelut ja apuvälineet</td>\n",
       "      <td>Oppilaalla on oikeus saada maksutta opetukseen...</td>\n",
       "    </tr>\n",
       "  </tbody>\n",
       "</table>\n",
       "</div>"
      ],
      "text/plain": [
       "     id  main_description  service_id                            title  \\\n",
       "0  2773              True       10004                      Perusopetus   \n",
       "1  3006             False       10004             Koulun kerhotoiminta   \n",
       "2  3384             False       10004      Joustava perusopetus (JOPO)   \n",
       "3  3405             False       10004                Painotettu opetus   \n",
       "4  3406             False       10004  Avustajapalvelut ja apuvälineet   \n",
       "\n",
       "                                   description_short  \n",
       "0  9-vuotisessa peruskoulussa saa yleissivistävän...  \n",
       "1  Helsinkiläisille peruskoululaisille järjestetä...  \n",
       "2  Joustavassa perusopetuksessa (JOPO) opiskellaa...  \n",
       "3  Peruskoulut voivat painottaa opetuksessaan tie...  \n",
       "4  Oppilaalla on oikeus saada maksutta opetukseen...  "
      ]
     },
     "execution_count": 120,
     "metadata": {},
     "output_type": "execute_result"
    }
   ],
   "source": [
    "df.head()"
   ]
  },
  {
   "cell_type": "markdown",
   "metadata": {},
   "source": [
    "## Clean the data and make it tidy"
   ]
  },
  {
   "cell_type": "code",
   "execution_count": 60,
   "metadata": {},
   "outputs": [],
   "source": [
    "# your code here"
   ]
  },
  {
   "cell_type": "markdown",
   "metadata": {},
   "source": [
    "## Visualize the data"
   ]
  },
  {
   "cell_type": "code",
   "execution_count": 61,
   "metadata": {},
   "outputs": [],
   "source": [
    "# your code here"
   ]
  },
  {
   "cell_type": "markdown",
   "metadata": {},
   "source": [
    "## Intermediate conclusions based on data visualization\n",
    "\n",
    "what do you see?"
   ]
  },
  {
   "cell_type": "markdown",
   "metadata": {},
   "source": [
    "## Suffle dataset \n",
    "\n",
    "(skip if time series)"
   ]
  },
  {
   "cell_type": "code",
   "execution_count": 62,
   "metadata": {},
   "outputs": [],
   "source": [
    "# your code here"
   ]
  },
  {
   "cell_type": "markdown",
   "metadata": {},
   "source": [
    "## Save clean and tidy data for further use"
   ]
  },
  {
   "cell_type": "code",
   "execution_count": 63,
   "metadata": {},
   "outputs": [],
   "source": [
    "# your code here"
   ]
  },
  {
   "cell_type": "markdown",
   "metadata": {},
   "source": [
    "## Sample a small toy dataset (N = 10-1000) for developing and software testing the ML algorithm"
   ]
  },
  {
   "cell_type": "code",
   "execution_count": 64,
   "metadata": {},
   "outputs": [],
   "source": [
    "# your code here"
   ]
  },
  {
   "cell_type": "markdown",
   "metadata": {},
   "source": [
    "save the toy dataset:"
   ]
  },
  {
   "cell_type": "code",
   "execution_count": 65,
   "metadata": {},
   "outputs": [],
   "source": [
    "# your code here"
   ]
  },
  {
   "cell_type": "markdown",
   "metadata": {},
   "source": [
    "## You can now move on to the model notebook!"
   ]
  }
 ],
 "metadata": {
  "interpreter": {
   "hash": "e7370f93d1d0cde622a1f8e1c04877d8463912d04d973331ad4851f04de6915a"
  },
  "kernelspec": {
   "display_name": "python38myenv",
   "language": "python",
   "name": "python3"
  },
  "language_info": {
   "codemirror_mode": {
    "name": "ipython",
    "version": 3
   },
   "file_extension": ".py",
   "mimetype": "text/x-python",
   "name": "python",
   "nbconvert_exporter": "python",
   "pygments_lexer": "ipython3",
   "version": "3.8.10"
  }
 },
 "nbformat": 4,
 "nbformat_minor": 4
}
