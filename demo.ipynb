{
 "cells": [
  {
   "cell_type": "markdown",
   "metadata": {},
   "source": [
    "# Why APIs are so great?"
   ]
  },
  {
   "cell_type": "code",
   "execution_count": null,
   "metadata": {},
   "outputs": [],
   "source": [
    "import numpy as np\n",
    "import pandas as pd"
   ]
  },
  {
   "cell_type": "markdown",
   "metadata": {},
   "source": [
    "## Let's try loading data without using an API"
   ]
  },
  {
   "cell_type": "code",
   "execution_count": null,
   "metadata": {
    "tags": [
     "parameters"
    ]
   },
   "outputs": [],
   "source": [
    "# define some params (data from World Bank open archive https://data.worldbank.org/indicator/TX.VAL.TECH.MF.ZS)\n",
    "data_adress = (\n",
    "    \"https://api.worldbank.org/v2/en/indicator/TX.VAL.TECH.MF.ZS?downloadformat=csv\"\n",
    ")\n",
    "zip_name = \"data.zip\""
   ]
  },
  {
   "cell_type": "code",
   "execution_count": null,
   "metadata": {},
   "outputs": [],
   "source": [
    "import requests\n",
    "from pathlib import Path\n",
    "\n",
    "# where data is loaded from\n",
    "data_adress = (\n",
    "    \"https://api.worldbank.org/v2/en/indicator/TX.VAL.TECH.MF.ZS?downloadformat=csv\"\n",
    ")\n",
    "# name of zip file to be saved\n",
    "zip_name = \"data.zip\"\n",
    "\n",
    "# filepath to raw data folder\n",
    "raw_data_path = Path().cwd() / \"data\" / \"raw_data\"  # modify to your needs\n",
    "# open file to write in binary mode, and call it f\n",
    "with open(raw_data_path / zip_name, \"wb\") as f:\n",
    "    # load file content with requests\n",
    "    loaded_file = requests.get(data_adress).content\n",
    "    # write contents to file\n",
    "    f.write(loaded_file)\n",
    "\n",
    "from zipfile import ZipFile\n",
    "\n",
    "# extract zip\n",
    "with ZipFile(raw_data_path / zip_name) as myzip:\n",
    "    myzip.extractall(raw_data_path)  # , members=None, pwd=None)\n",
    "\n",
    "# read csv\n",
    "csvfile1 = \"API_TX.VAL.TECH.MF.ZS_DS2_en_csv_v2_3733541.csv\"\n",
    "df = pd.read_csv(raw_data_path / csvfile1, skiprows=3)"
   ]
  },
  {
   "cell_type": "markdown",
   "metadata": {},
   "source": [
    "Quite a lot of work, righ? And this is just minimum setup with no cleaning involved.."
   ]
  },
  {
   "cell_type": "markdown",
   "metadata": {},
   "source": [
    "## Compare this to reading data through an API\n",
    "(not the same data though, would be nice to have example using exactly the same data)"
   ]
  },
  {
   "cell_type": "code",
   "execution_count": null,
   "metadata": {},
   "outputs": [],
   "source": [
    "# data from city of helsinki https://www.hel.fi/palvelukarttaws/restpages/palvelurekisteri.html\n",
    "query = \"https://www.hel.fi/palvelukarttaws/rest/vpalvelurekisteri/description/\""
   ]
  },
  {
   "cell_type": "code",
   "execution_count": null,
   "metadata": {},
   "outputs": [],
   "source": [
    "df = pd.read_json(query)"
   ]
  },
  {
   "cell_type": "markdown",
   "metadata": {},
   "source": [
    "Yup, that's it. This is why APIs are so great!"
   ]
  }
 ],
 "metadata": {
  "interpreter": {
   "hash": "e7370f93d1d0cde622a1f8e1c04877d8463912d04d973331ad4851f04de6915a"
  },
  "kernelspec": {
   "display_name": "python38myenv",
   "language": "python",
   "name": "python3"
  },
  "language_info": {
   "codemirror_mode": {
    "name": "ipython",
    "version": 3
   },
   "file_extension": ".py",
   "mimetype": "text/x-python",
   "name": "python",
   "nbconvert_exporter": "python",
   "pygments_lexer": "ipython3",
   "version": "3.8.10"
  }
 },
 "nbformat": 4,
 "nbformat_minor": 4
}
